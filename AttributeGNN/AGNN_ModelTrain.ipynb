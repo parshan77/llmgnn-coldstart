{
  "nbformat": 4,
  "nbformat_minor": 0,
  "metadata": {
    "colab": {
      "provenance": [],
      "toc_visible": true,
      "gpuType": "T4"
    },
    "kernelspec": {
      "name": "python3",
      "display_name": "Python 3"
    },
    "language_info": {
      "name": "python"
    },
    "accelerator": "GPU"
  },
  "cells": [
    {
      "cell_type": "code",
      "execution_count": 2,
      "metadata": {
        "id": "oQGlJ6oIAXoN"
      },
      "outputs": [],
      "source": [
        "import torch\n",
        "import torch.nn as nn\n",
        "import torch.nn.init as init\n",
        "import torch.nn.functional as F\n",
        "from torch.autograd import Variable\n",
        "\n",
        "import numpy as np\n",
        "import pandas as pd\n",
        "from torch.utils.data import Dataset"
      ]
    },
    {
      "cell_type": "markdown",
      "source": [
        "## VAE model"
      ],
      "metadata": {
        "id": "FSB6EsxlMBLh"
      }
    },
    {
      "cell_type": "code",
      "source": [
        "class VAE(nn.Module):\n",
        "\n",
        "    def __init__(self, embed_size):\n",
        "        super(VAE, self).__init__()\n",
        "\n",
        "        Z_dim = X_dim = h_dim = embed_size\n",
        "        self.Z_dim = Z_dim\n",
        "        self.X_dim= X_dim\n",
        "        self.h_dim = h_dim\n",
        "        self.embed_size= embed_size\n",
        "\n",
        "        def init_weights(m):\n",
        "            if isinstance(m, nn.Linear):\n",
        "                nn.init.xavier_uniform(m.weight)\n",
        "                if m.bias is not None:\n",
        "                    nn.init.constant(m.bias, 0)\n",
        "\n",
        "        # =============================== Q(z|X) ======================================\n",
        "        self.dense_xh = nn.Linear(X_dim, h_dim)\n",
        "        init_weights(self.dense_xh)\n",
        "\n",
        "        self.dense_hz_mu = nn.Linear(h_dim, Z_dim)\n",
        "        init_weights(self.dense_hz_mu)\n",
        "\n",
        "        self.dense_hz_var = nn.Linear(h_dim, Z_dim)\n",
        "        init_weights(self.dense_hz_var)\n",
        "\n",
        "        # =============================== P(X|z) ======================================\n",
        "        self.dense_zh = nn.Linear(Z_dim, h_dim)\n",
        "        init_weights(self.dense_zh)\n",
        "\n",
        "        self.dense_hx = nn.Linear(h_dim, X_dim)\n",
        "        init_weights(self.dense_hx)\n",
        "\n",
        "    def Q(self, X):\n",
        "        h = nn.ReLU()(self.dense_xh(X))\n",
        "        z_mu = self.dense_hz_mu(h)\n",
        "        z_var = self.dense_hz_var(h)\n",
        "        return z_mu, z_var\n",
        "\n",
        "    def sample_z(self, mu, log_var):\n",
        "        mb_size = mu.shape[0]\n",
        "        eps = Variable(torch.randn(mb_size, self.Z_dim)).cuda()\n",
        "        return mu + torch.exp(log_var / 2) * eps\n",
        "\n",
        "    def P(self, z):\n",
        "        h = nn.ReLU()(self.dense_zh(z))\n",
        "        X = self.dense_hx(h)\n",
        "        return X\n"
      ],
      "metadata": {
        "id": "EENVY3LaAgRf"
      },
      "execution_count": 3,
      "outputs": []
    },
    {
      "cell_type": "markdown",
      "source": [
        "## AGNN model"
      ],
      "metadata": {
        "id": "494AJVEXL8jH"
      }
    },
    {
      "cell_type": "code",
      "source": [
        "class AGNN(torch.nn.Module):\n",
        "    def __init__(self, user_size, item_size, gender_size, age_size, occupation_size, genre_size, director_size, writer_size, star_size, country_size, embed_size, attention_size, dropout):\n",
        "        super(AGNN, self).__init__()\n",
        "        self.user_size = user_size\n",
        "        self.item_size = item_size\n",
        "        self.gender_size = gender_size\n",
        "        self.age_size = age_size\n",
        "        self.occupation_size = occupation_size\n",
        "        self.genre_size = genre_size\n",
        "        self.director_size = director_size\n",
        "        self.writer_size = writer_size\n",
        "        self.star_size = star_size\n",
        "        self.country_size = country_size\n",
        "        self.embed_size = embed_size\n",
        "        self.dropout = dropout\n",
        "        self.attention_size = attention_size\n",
        "\n",
        "        def init_weights(m):\n",
        "            if isinstance(m, nn.Linear):\n",
        "                nn.init.xavier_uniform(m.weight)\n",
        "                if m.bias is not None:\n",
        "                    nn.init.constant(m.bias, 0)\n",
        "\n",
        "        self.user_embed = torch.nn.Embedding(self.user_size, self.embed_size)\n",
        "        self.item_embed = torch.nn.Embedding(self.item_size, self.embed_size)\n",
        "        nn.init.xavier_uniform(self.user_embed.weight)\n",
        "        nn.init.xavier_uniform(self.item_embed.weight)\n",
        "\n",
        "        self.user_bias = torch.nn.Embedding(self.user_size, 1)\n",
        "        self.item_bias = torch.nn.Embedding(self.item_size, 1)\n",
        "        nn.init.constant(self.user_bias.weight, 0)\n",
        "        nn.init.constant(self.item_bias.weight, 0)\n",
        "\n",
        "        self.miu = torch.nn.Parameter(torch.zeros(1), requires_grad=True)\n",
        "\n",
        "        self.gender_embed = torch.nn.Embedding(self.gender_size, self.embed_size)\n",
        "        self.gender_embed.weight.data.normal_(0, 0.05)\n",
        "        self.age_embed = torch.nn.Embedding(self.age_size, self.embed_size)\n",
        "        self.age_embed.weight.data.normal_(0, 0.05)\n",
        "        self.occupation_embed = torch.nn.Embedding(self.occupation_size, self.embed_size)\n",
        "        self.occupation_embed.weight.data.normal_(0, 0.05)\n",
        "\n",
        "        self.genre_embed = torch.nn.Embedding(self.genre_size, self.embed_size)\n",
        "        self.genre_embed.weight.data.normal_(0, 0.05)\n",
        "        self.director_embed = torch.nn.Embedding(self.director_size, self.embed_size)\n",
        "        self.director_embed.weight.data.normal_(0, 0.05)\n",
        "        self.writer_embed = torch.nn.Embedding(self.writer_size, self.embed_size)\n",
        "        self.writer_embed.weight.data.normal_(0, 0.05)\n",
        "        self.star_embed = torch.nn.Embedding(self.star_size, self.embed_size)\n",
        "        self.star_embed.weight.data.normal_(0, 0.05)\n",
        "        self.country_embed = torch.nn.Embedding(self.country_size, self.embed_size)\n",
        "        self.country_embed.weight.data.normal_(0, 0.05)\n",
        "\n",
        "\n",
        "        #--------------------------------------------------\n",
        "        self.dense_item_self_biinter = nn.Linear(self.embed_size, self.embed_size)\n",
        "        self.dense_item_self_siinter = nn.Linear(self.embed_size, self.embed_size)\n",
        "        self.dense_item_onehop_biinter = nn.Linear(self.embed_size, self.embed_size)\n",
        "        self.dense_item_onehop_siinter = nn.Linear(self.embed_size, self.embed_size)\n",
        "        self.dense_user_self_biinter = nn.Linear(self.embed_size, self.embed_size)\n",
        "        self.dense_user_self_siinter = nn.Linear(self.embed_size, self.embed_size)\n",
        "        self.dense_user_onehop_biinter = nn.Linear(self.embed_size, self.embed_size)\n",
        "        self.dense_user_onehop_siinter = nn.Linear(self.embed_size, self.embed_size)\n",
        "        init_weights(self.dense_item_self_biinter)\n",
        "        init_weights(self.dense_item_self_siinter)\n",
        "        init_weights(self.dense_item_onehop_biinter)\n",
        "        init_weights(self.dense_item_onehop_siinter)\n",
        "        init_weights(self.dense_user_self_biinter)\n",
        "        init_weights(self.dense_user_self_siinter)\n",
        "        init_weights(self.dense_user_onehop_biinter)\n",
        "        init_weights(self.dense_user_onehop_siinter)\n",
        "\n",
        "        self.dense_item_cate_self = nn.Linear(2 * self.embed_size, self.embed_size)\n",
        "        self.dense_item_cate_hop1 = nn.Linear(2 * self.embed_size, self.embed_size)\n",
        "        self.dense_user_cate_self = nn.Linear(2 * self.embed_size, self.embed_size)\n",
        "        self.dense_user_cate_hop1 = nn.Linear(2 * self.embed_size, self.embed_size)\n",
        "        init_weights(self.dense_item_cate_self)\n",
        "        init_weights(self.dense_item_cate_hop1)\n",
        "        init_weights(self.dense_user_cate_self)\n",
        "        init_weights(self.dense_user_cate_hop1)\n",
        "\n",
        "        self.dense_item_addgate = nn.Linear(self.embed_size * 2, self.embed_size)\n",
        "        init_weights(self.dense_item_addgate)\n",
        "        self.dense_item_erasegate = nn.Linear(self.embed_size * 2, self.embed_size)\n",
        "        init_weights(self.dense_item_erasegate)\n",
        "        self.dense_user_addgate = nn.Linear(self.embed_size * 2, self.embed_size)\n",
        "        init_weights(self.dense_user_addgate)\n",
        "        self.dense_user_erasegate = nn.Linear(self.embed_size * 2, self.embed_size)\n",
        "\n",
        "        self.user_vae = VAE(embed_size)\n",
        "        self.item_vae = VAE(embed_size)\n",
        "\n",
        "        #----------------------------------------------------\n",
        "        #concat, mlp融合\n",
        "        self.FC_pre = nn.Linear(2 * embed_size, 1)\n",
        "        init_weights(self.FC_pre)\n",
        "\n",
        "        \"\"\"# dot\n",
        "        self.user_bias = nn.Embedding(self.user_size, 1)\n",
        "        self.item_bias = nn.Embedding(self.item_size, 1)\n",
        "        self.user_bias.weight.data.normal_(0, 0.01)\n",
        "        self.item_bias.weight.data.normal_(0, 0.01)\n",
        "        self.bias = torch.nn.Parameter(torch.rand(1), requires_grad=True)\n",
        "        self.bias.data.uniform_(0, 0.1)\"\"\"\n",
        "\n",
        "        self.sigmoid = nn.Sigmoid()\n",
        "        self.tanh = nn.Tanh()\n",
        "        self.relu = nn.ReLU()\n",
        "        self.leakyrelu = nn.LeakyReLU()\n",
        "        self.dropout = nn.Dropout(p=0.2)\n",
        "\n",
        "    def feat_interaction(self, feature_embedding, fun_bi, fun_si, dimension):\n",
        "        summed_features_emb_square = (torch.sum(feature_embedding, dim=dimension)).pow(2)\n",
        "        squared_sum_features_emb = torch.sum(feature_embedding.pow(2), dim=dimension)\n",
        "        deep_fm = 0.5 * (summed_features_emb_square - squared_sum_features_emb)\n",
        "        deep_fm = self.leakyrelu(fun_bi(deep_fm))\n",
        "        bias_fm = self.leakyrelu(fun_si(feature_embedding.sum(dim=dimension)))\n",
        "        nfm = deep_fm + bias_fm\n",
        "        return nfm\n",
        "\n",
        "    def forward(self, user, item, user_self_cate, user_onehop_id, user_onehop_cate, item_self_cate, item_self_director, item_self_writer, item_self_star, item_self_country, item_onehop_id, item_onehop_cate, item_onehop_director, item_onehop_writer, item_onehop_star, item_onehop_country, mode='train'):\n",
        "\n",
        "        uids_list = user.cuda()\n",
        "        sids_list = item.cuda()\n",
        "        if mode == 'train' or mode == 'warm':\n",
        "            user_embedding = self.user_embed(torch.autograd.Variable(uids_list))\n",
        "            item_embedding = self.item_embed(torch.autograd.Variable(sids_list))\n",
        "        if mode == 'ics':\n",
        "            user_embedding = self.user_embed(torch.autograd.Variable(uids_list))\n",
        "        if mode == 'ucs':\n",
        "            item_embedding = self.item_embed(torch.autograd.Variable(sids_list))\n",
        "\n",
        "        batch_size = item_self_cate.shape[0]\n",
        "        cate_size = item_self_cate.shape[1]\n",
        "        director_size = item_self_director.shape[1]\n",
        "        writer_size = item_self_writer.shape[1]\n",
        "        star_size = item_self_star.shape[1]\n",
        "        country_size = item_self_country.shape[1]\n",
        "        user_onehop_size = user_onehop_id.shape[1]\n",
        "        item_onehop_size = item_onehop_id.shape[1]\n",
        "\n",
        "        #------------------------------------------------------GCN-item\n",
        "        # K=2\n",
        "        item_onehop_id = self.item_embed(Variable(item_onehop_id))\n",
        "\n",
        "        item_onehop_cate = self.genre_embed(Variable(item_onehop_cate).view(-1, cate_size)).view(batch_size,item_onehop_size,cate_size, -1)\n",
        "        item_onehop_director = self.director_embed(Variable(item_onehop_director).view(-1, director_size)).view(batch_size, item_onehop_size, director_size, -1)\n",
        "        item_onehop_writer = self.writer_embed(Variable(item_onehop_writer).view(-1, writer_size)).view(batch_size, item_onehop_size, writer_size, -1)\n",
        "        item_onehop_star = self.star_embed(Variable(item_onehop_star).view(-1, star_size)).view(batch_size, item_onehop_size, star_size, -1)\n",
        "        item_onehop_country = self.country_embed(Variable(item_onehop_country).view(-1, country_size)).view(batch_size, item_onehop_size, country_size, -1)\n",
        "\n",
        "        item_onehop_feature = torch.cat([item_onehop_cate, item_onehop_director, item_onehop_writer, item_onehop_star, item_onehop_country], dim=2)\n",
        "        item_onehop_embed = self.dense_item_cate_hop1(torch.cat([self.feat_interaction(item_onehop_feature, self.dense_item_onehop_biinter,  self.dense_item_onehop_siinter, dimension=2), item_onehop_id], dim=-1))\n",
        "\n",
        "        # K=1\n",
        "        item_self_cate = self.genre_embed(Variable(item_self_cate))\n",
        "        item_self_director = self.director_embed(Variable(item_self_director))\n",
        "        item_self_writer = self.writer_embed(Variable(item_self_writer))\n",
        "        item_self_star = self.star_embed(Variable(item_self_star))\n",
        "        item_self_country = self.country_embed(Variable(item_self_country))\n",
        "\n",
        "        item_self_feature = torch.cat([item_self_cate, item_self_director, item_self_writer, item_self_star, item_self_country], dim=1)\n",
        "        item_self_feature = self.feat_interaction(item_self_feature, self.dense_item_self_biinter, self.dense_item_self_siinter, dimension=1)\n",
        "\n",
        "        if mode == 'ics':\n",
        "            item_mu, item_var = self.item_vae.Q(item_self_feature)\n",
        "            item_z = self.item_vae.sample_z(item_mu, item_var)\n",
        "            item_embedding = self.item_vae.P(item_z)\n",
        "        item_self_embed = self.dense_item_cate_self(torch.cat([item_self_feature, item_embedding], dim=-1))\n",
        "\n",
        "        item_addgate = self.sigmoid(self.dense_item_addgate(torch.cat([item_self_embed.unsqueeze(1).repeat(1, item_onehop_size, 1), item_onehop_embed], dim=-1)))  # 商品的邻居门，控制邻居信息多少作为输入\n",
        "        item_erasegate = self.sigmoid(self.dense_item_erasegate(torch.cat([item_self_embed, item_onehop_embed.mean(dim=1)], dim=-1)))\n",
        "        item_onehop_embed_final = (item_onehop_embed * item_addgate).mean(1)\n",
        "        item_self_embed = (1 - item_erasegate) * item_self_embed\n",
        "\n",
        "        item_gcn_embed = self.leakyrelu(item_self_embed + item_onehop_embed_final)  # [batch, embed]\n",
        "\n",
        "        #----------------------------------------------------------GCN-user\n",
        "        # K=2\n",
        "        user_onehop_id = self.user_embed(Variable(user_onehop_id))\n",
        "\n",
        "        user_onehop_gender_emb = self.gender_embed(Variable(user_onehop_cate[:, :, 0]))\n",
        "        user_onehop_age_emb = self.age_embed(Variable(user_onehop_cate[:, :, 1]))\n",
        "        user_onehop_occupation_emb = self.occupation_embed(Variable(user_onehop_cate[:, :, 2]))\n",
        "\n",
        "        user_onehop_feat = torch.cat([user_onehop_gender_emb.unsqueeze(2), user_onehop_age_emb.unsqueeze(2), user_onehop_occupation_emb.unsqueeze(2)], dim=2)\n",
        "        user_onehop_embed = self.dense_user_cate_hop1(torch.cat([self.feat_interaction(user_onehop_feat, self.dense_user_onehop_biinter, self.dense_user_onehop_siinter, dimension=2), user_onehop_id], dim=-1))\n",
        "\n",
        "        # K=1\n",
        "        user_gender_emb = self.gender_embed(Variable(user_self_cate[:, 0]))\n",
        "        user_age_emb = self.age_embed(Variable(user_self_cate[:, 1]))\n",
        "        user_occupation_emb = self.occupation_embed(Variable(user_self_cate[:, 2]))\n",
        "\n",
        "        user_self_feature = torch.cat([user_gender_emb.unsqueeze(1), user_age_emb.unsqueeze(1), user_occupation_emb.unsqueeze(1)], dim=1)\n",
        "        user_self_feature = self.feat_interaction(user_self_feature, self.dense_user_self_biinter,  self.dense_user_onehop_siinter, dimension=1)\n",
        "\n",
        "        if mode == 'ucs':\n",
        "            user_mu, user_var = self.user_vae.Q(user_self_feature)\n",
        "            user_z = self.user_vae.sample_z(user_mu, user_var)\n",
        "            user_embedding = self.user_vae.P(user_z)\n",
        "        user_self_embed = self.dense_user_cate_self(torch.cat([user_self_feature, user_embedding], dim=-1))\n",
        "\n",
        "        user_addgate = self.sigmoid(self.dense_user_addgate(torch.cat([user_self_embed.unsqueeze(1).repeat(1, user_onehop_size, 1), user_onehop_embed],dim=-1)))\n",
        "        user_erasegate = self.sigmoid(self.dense_user_erasegate(torch.cat([user_self_embed, user_onehop_embed.mean(dim=1)], dim=-1)))\n",
        "        user_onehop_embed_final = (user_onehop_embed * user_addgate).mean(dim=1)\n",
        "        user_self_embed = (1 - user_erasegate) * user_self_embed\n",
        "\n",
        "        user_gcn_embed = self.leakyrelu(user_self_embed + user_onehop_embed_final)\n",
        "\n",
        "        #--------------------------------------------------norm\n",
        "        item_mu, item_var = self.item_vae.Q(item_self_feature)\n",
        "        item_z = self.item_vae.sample_z(item_mu, item_var)\n",
        "        item_preference_sample = self.item_vae.P(item_z)\n",
        "\n",
        "        user_mu, user_var = self.user_vae.Q(user_self_feature)\n",
        "        user_z = self.user_vae.sample_z(user_mu, user_var)\n",
        "        user_preference_sample = self.user_vae.P(user_z)\n",
        "\n",
        "        recon_loss = torch.norm(item_preference_sample - item_embedding) + torch.norm(user_preference_sample - user_embedding)\n",
        "        kl_loss = torch.mean(0.5 * torch.sum(torch.exp(item_z) + item_mu ** 2 - 1. - item_var, 1)) + \\\n",
        "                  torch.mean(0.5 * torch.sum(torch.exp(user_z) + user_mu ** 2 - 1. - user_var, 1))\n",
        "\n",
        "        ####################################prediction#####################################################\n",
        "\n",
        "        #concat -> mlp\n",
        "        bu = self.user_bias(Variable(uids_list))\n",
        "        bi = self.item_bias(Variable(sids_list))\n",
        "        #pred = (user_gcn_embed * item_gcn_embed).sum(1, keepdim=True) + bu + bi + (self.miu).repeat(batch_size, 1)\n",
        "        tmp = torch.cat([user_gcn_embed, item_gcn_embed], dim=1)\n",
        "        pred = self.FC_pre(tmp) + (user_gcn_embed * item_gcn_embed).sum(1, keepdim=True) + bu + bi + (self.miu).repeat(batch_size, 1)\n",
        "\n",
        "        return pred.squeeze(), recon_loss, kl_loss\n"
      ],
      "metadata": {
        "id": "Cih2VtQQAiRw"
      },
      "execution_count": 4,
      "outputs": []
    },
    {
      "cell_type": "code",
      "source": [
        "%pip install tensorboardX"
      ],
      "metadata": {
        "colab": {
          "base_uri": "https://localhost:8080/"
        },
        "id": "Oc72AnWTBQDZ",
        "outputId": "c1bf894c-0832-428e-bec4-f4dce8389ee1"
      },
      "execution_count": 5,
      "outputs": [
        {
          "output_type": "stream",
          "name": "stdout",
          "text": [
            "Collecting tensorboardX\n",
            "  Downloading tensorboardX-2.6.2.2-py2.py3-none-any.whl (101 kB)\n",
            "\u001b[?25l     \u001b[90m━━━━━━━━━━━━━━━━━━━━━━━━━━━━━━━━━━━━━━━━\u001b[0m \u001b[32m0.0/101.7 kB\u001b[0m \u001b[31m?\u001b[0m eta \u001b[36m-:--:--\u001b[0m\r\u001b[2K     \u001b[91m━━━━━━━━━━━━━━━━━━━━━━━━━━━━\u001b[0m\u001b[90m╺\u001b[0m\u001b[90m━━━━━━━━━━━\u001b[0m \u001b[32m71.7/101.7 kB\u001b[0m \u001b[31m2.1 MB/s\u001b[0m eta \u001b[36m0:00:01\u001b[0m\r\u001b[2K     \u001b[90m━━━━━━━━━━━━━━━━━━━━━━━━━━━━━━━━━━━━━━━━\u001b[0m \u001b[32m101.7/101.7 kB\u001b[0m \u001b[31m1.9 MB/s\u001b[0m eta \u001b[36m0:00:00\u001b[0m\n",
            "\u001b[?25hRequirement already satisfied: numpy in /usr/local/lib/python3.10/dist-packages (from tensorboardX) (1.25.2)\n",
            "Requirement already satisfied: packaging in /usr/local/lib/python3.10/dist-packages (from tensorboardX) (23.2)\n",
            "Requirement already satisfied: protobuf>=3.20 in /usr/local/lib/python3.10/dist-packages (from tensorboardX) (3.20.3)\n",
            "Installing collected packages: tensorboardX\n",
            "Successfully installed tensorboardX-2.6.2.2\n"
          ]
        }
      ]
    },
    {
      "cell_type": "code",
      "source": [
        "import os, time, argparse\n",
        "import numpy as np\n",
        "import pickle\n",
        "import torch\n",
        "import torch.nn as nn\n",
        "import torch.optim as optim\n",
        "from torch.utils.data import DataLoader\n",
        "from tensorboardX import SummaryWriter\n",
        "from collections import OrderedDict\n",
        "import json\n",
        "from torch.autograd import Variable"
      ],
      "metadata": {
        "id": "Xxbc5bXlBFqs"
      },
      "execution_count": 6,
      "outputs": []
    },
    {
      "cell_type": "code",
      "source": [
        "def get_data_list(ftrain, batch_size):\n",
        "    f = open(ftrain, 'r')\n",
        "    train_list = []\n",
        "    for eachline in f:\n",
        "        eachline = eachline.strip().split('\\t')\n",
        "        u, i, l = int(eachline[0]), int(eachline[1]), float(eachline[2])\n",
        "        train_list.append([u, i, l])\n",
        "    num_batches_per_epoch = int((len(train_list) - 1) / batch_size) + 1\n",
        "    return num_batches_per_epoch, train_list\n",
        "\n",
        "def get_batch_instances(train_list, user_feature_dict, item_feature_dict, item_director_dict, item_writer_dict, item_star_dict, item_country_dict, batch_size, user_nei_dict, item_nei_dict, shuffle=True):\n",
        "    num_batches_per_epoch = int((len(train_list) - 1) / batch_size) + 1\n",
        "    def data_generator(train_list):\n",
        "        data_size = len(train_list)\n",
        "        user_feature_arr = np.array(list(user_feature_dict.values()))\n",
        "        max_user_cate_size = user_feature_arr.shape[1]\n",
        "\n",
        "        item_genre_arr = np.array(list(item_feature_dict.values())) #len=6 ,0\n",
        "        item_director_arr = np.array(list(item_director_dict.values())) #len=3 ,6\n",
        "        item_writer_arr = np.array(list(item_writer_dict.values())) #len=3, 9\n",
        "        item_star_arr = np.array(list(item_star_dict.values())) #len=3, 12\n",
        "        item_country_arr = np.array(list(item_country_dict.values()))   #len=8, 15\n",
        "\n",
        "        item_feature_arr = np.concatenate([item_genre_arr, item_director_arr, item_writer_arr, item_star_arr, item_country_arr], axis=1)\n",
        "        max_item_cate_size = item_feature_arr.shape[1]\n",
        "\n",
        "        item_layer1_nei_num = FLAGS.item_layer1_nei_num\n",
        "        user_layer1_nei_num = FLAGS.user_layer1_nei_num\n",
        "\n",
        "        if shuffle == True:\n",
        "            np.random.shuffle(train_list)\n",
        "        train_list = np.array(train_list)\n",
        "\n",
        "        for batch_num in range(num_batches_per_epoch):\n",
        "            start_index = batch_num * batch_size\n",
        "            end_index = min((batch_num + 1) * batch_size, data_size)\n",
        "            current_batch_size = end_index - start_index\n",
        "\n",
        "            u = train_list[start_index: end_index][:, 0].astype(np.int64)\n",
        "            i = train_list[start_index: end_index][:, 1].astype(np.int64)\n",
        "            l = train_list[start_index: end_index][:, 2]\n",
        "\n",
        "            i_self_cate = np.zeros([current_batch_size, max_item_cate_size], dtype=np.int64)\n",
        "            i_onehop_id = np.zeros([current_batch_size, item_layer1_nei_num], dtype=np.int64)\n",
        "            i_onehop_cate = np.zeros([current_batch_size, item_layer1_nei_num, max_item_cate_size], dtype=np.int64)\n",
        "\n",
        "            u_self_cate = np.zeros([current_batch_size, max_user_cate_size], dtype=np.int64)\n",
        "            u_onehop_id = np.zeros([current_batch_size, user_layer1_nei_num], dtype=np.int64)\n",
        "            u_onehop_cate = np.zeros([current_batch_size, user_layer1_nei_num, max_user_cate_size], dtype=np.int64)\n",
        "\n",
        "            for index, each_i in enumerate(i):\n",
        "                i_self_cate[index] = item_feature_arr[each_i]    #item_self_cate\n",
        "\n",
        "                tmp_one_nei = item_nei_dict[each_i][0]\n",
        "                tmp_prob = item_nei_dict[each_i][1]\n",
        "                if len(tmp_one_nei) > item_layer1_nei_num:  #re-sampling\n",
        "                    tmp_one_nei = np.random.choice(tmp_one_nei, item_layer1_nei_num, replace=False, p=tmp_prob)\n",
        "                elif len(tmp_one_nei) < item_layer1_nei_num:\n",
        "                    tmp_one_nei = np.random.choice(tmp_one_nei, item_layer1_nei_num, replace=True, p=tmp_prob)\n",
        "                tmp_one_nei[-1] = each_i\n",
        "\n",
        "                i_onehop_id[index] = tmp_one_nei    #item_1_neigh\n",
        "                i_onehop_cate[index] = item_feature_arr[tmp_one_nei]  #item_1_neigh_cate\n",
        "\n",
        "            for index, each_u in enumerate(u):\n",
        "                u_self_cate[index] = user_feature_dict[each_u]  # item_self_cate\n",
        "\n",
        "                tmp_one_nei = user_nei_dict[each_u][0]\n",
        "                tmp_prob = user_nei_dict[each_u][1]\n",
        "                if len(tmp_one_nei) > user_layer1_nei_num:  # re-sampling\n",
        "                    tmp_one_nei = np.random.choice(tmp_one_nei, user_layer1_nei_num, replace=False, p=tmp_prob)\n",
        "                elif len(tmp_one_nei) < user_layer1_nei_num:\n",
        "                    tmp_one_nei = np.random.choice(tmp_one_nei, user_layer1_nei_num, replace=True, p=tmp_prob)\n",
        "                tmp_one_nei[-1] = each_u\n",
        "\n",
        "                u_onehop_id[index] = tmp_one_nei  # user_1_neigh\n",
        "                u_onehop_cate[index] = user_feature_arr[tmp_one_nei]  # user_1_neigh_cate\n",
        "\n",
        "            yield ([u, i, l, u_self_cate, u_onehop_id, u_onehop_cate, i_self_cate, i_onehop_id, i_onehop_cate])\n",
        "    return data_generator(train_list)\n"
      ],
      "metadata": {
        "id": "gWoCLeAIAmU2"
      },
      "execution_count": 7,
      "outputs": []
    },
    {
      "cell_type": "code",
      "source": [
        "def metrics(model, test_dataloader):\n",
        "    label_lst, pred_lst = [], []\n",
        "    rmse, mse, mae = 0,0,0\n",
        "    count = 0\n",
        "    for batch_data in test_dataloader:\n",
        "        user = torch.LongTensor(batch_data[0]).cuda()\n",
        "        item = torch.LongTensor(batch_data[1]).cuda()\n",
        "        label = torch.FloatTensor(batch_data[2]).cuda()\n",
        "        user_self_cate = torch.LongTensor(batch_data[3]).cuda()\n",
        "        user_onehop_id = torch.LongTensor(batch_data[4]).cuda()\n",
        "        user_onehop_cate = torch.LongTensor(batch_data[5]).cuda()\n",
        "        item_self_cate, item_self_director, item_self_writer, item_self_star, item_self_country = torch.LongTensor(\n",
        "            batch_data[6])[:, 0:6].cuda(), torch.LongTensor(batch_data[6])[:, 6:9].cuda(), torch.LongTensor(\n",
        "            batch_data[6])[:, 9:12].cuda(), torch.LongTensor(batch_data[6])[:, 12:15].cuda(), torch.LongTensor(\n",
        "            batch_data[6])[:, 15:].cuda()\n",
        "        item_onehop_id = torch.LongTensor(batch_data[7]).cuda()\n",
        "        item_onehop_cate, item_onehop_director, item_onehop_writer, item_onehop_star, item_onehop_country = torch.LongTensor(\n",
        "            batch_data[8])[:, :, 0:6].cuda(), torch.LongTensor(batch_data[8])[:, :, 6:9].cuda(), torch.LongTensor(\n",
        "            batch_data[8])[:, :, 9:12].cuda(), torch.LongTensor(batch_data[8])[:, :, 12:15].cuda(), torch.LongTensor(\n",
        "            batch_data[8])[:, :, 15:].cuda()\n",
        "\n",
        "        prediction, recon_loss, kl_loss = model(user, item, user_self_cate, user_onehop_id, user_onehop_cate, item_self_cate,\n",
        "                           item_self_director, item_self_writer, item_self_star, item_self_country, item_onehop_id,\n",
        "                           item_onehop_cate, item_onehop_director, item_onehop_writer, item_onehop_star,\n",
        "                           item_onehop_country, mode = mode)\n",
        "        prediction = prediction.cpu().data.numpy()\n",
        "        prediction = prediction.reshape(prediction.shape[0])\n",
        "        label = label.cpu().numpy()\n",
        "        my_rmse = np.sum((prediction - label) ** 2)\n",
        "        my_mse = np.sum((prediction - label) ** 2)\n",
        "        my_mae = np.sum(np.abs(prediction - label))\n",
        "        # my_rmse = torch.sqrt(torch.sum((prediction - label) ** 2) / FLAGS.batch_size)\n",
        "        rmse+=my_rmse\n",
        "        mse+=my_mse\n",
        "        mae+=my_mae\n",
        "        count += len(user)\n",
        "        label_lst.extend(list([float(l) for l in label]))\n",
        "        pred_lst.extend(list([float(l) for l in prediction]))\n",
        "\n",
        "    my_mse = mse/count\n",
        "    my_rmse = np.sqrt(rmse/count)\n",
        "    my_mae = mae/count\n",
        "    return my_rmse, my_mse, my_mae, label_lst, pred_lst"
      ],
      "metadata": {
        "id": "8OUeqibJA6vK"
      },
      "execution_count": 8,
      "outputs": []
    },
    {
      "cell_type": "code",
      "source": [
        "class Flags:\n",
        "  def __init__(self, lr, dropout, batch_size, gpu, epochs, clip_norm, embed_size, attention_size, item_layer1_nei_num, user_layer1_nei_num, vae_lambda):\n",
        "    self.batch_size = batch_size\n",
        "    self.lr = lr\n",
        "    self.dropout = dropout\n",
        "    self.gpu = gpu\n",
        "    self.epochs = epochs\n",
        "    self.clip_norm = clip_norm\n",
        "    self.embed_size = embed_size\n",
        "    self.attention_size = attention_size\n",
        "    self.item_layer1_nei_num = item_layer1_nei_num\n",
        "    self.user_layer1_nei_num = user_layer1_nei_num\n",
        "    self.vae_lambda = vae_lambda"
      ],
      "metadata": {
        "id": "Asut8MsFBDsS"
      },
      "execution_count": 9,
      "outputs": []
    },
    {
      "cell_type": "code",
      "source": [
        "from google.colab import drive\n",
        "drive.mount(\"/content/drive\")"
      ],
      "metadata": {
        "colab": {
          "base_uri": "https://localhost:8080/"
        },
        "id": "543pubABFJm5",
        "outputId": "098cbb18-bf28-4a9f-b692-1bcf317956c9"
      },
      "execution_count": 10,
      "outputs": [
        {
          "output_type": "stream",
          "name": "stdout",
          "text": [
            "Mounted at /content/drive\n"
          ]
        }
      ]
    },
    {
      "cell_type": "code",
      "source": [
        "FLAGS = Flags(lr=0.0005, dropout=0.5, batch_size=128, gpu=0,\n",
        "              epochs=20, clip_norm=5.0, embed_size=40,\n",
        "              attention_size=50, # not specified in paper so leave as argparse default\n",
        "              item_layer1_nei_num=10, # use argparse default\n",
        "\n",
        "              user_layer1_nei_num=10, # use argparse default\n",
        "              vae_lambda=1)"
      ],
      "metadata": {
        "id": "-n3hFIE8GKbu"
      },
      "execution_count": 11,
      "outputs": []
    },
    {
      "cell_type": "code",
      "source": [
        "def create_training_data(output_dat_filename, augmented_data_df,\n",
        "                         num_users=100, num_movies=300):\n",
        "  ucs_train_df = pd.read_csv(\"ucs_train.dat\", sep=\"\\t\",\n",
        "                           header=None, names=[\"userId\", \"movieId\", \"rating\"],\n",
        "                             index_col=\"userId\").reset_index()\n",
        "  # augment ucs (user cold start) training data\n",
        "  # total number of users 944\n",
        "  total_user_count = 944\n",
        "  # total number of movies 1683\n",
        "  total_movie_count = 1683\n",
        "  random_users = np.random.randint(low=1, high=total_user_count, size=num_users)\n",
        "  random_movies = np.random.randint(low=1, high=total_movie_count, size=num_movies)\n",
        "  train_with_gan_df = pd.DataFrame(ucs_train_df)\n",
        "  iter_cnt = 0\n",
        "  for user_id in random_users:\n",
        "    train_user_id_df = ucs_train_df[ucs_train_df[\"userId\"] == user_id]\n",
        "    augmented_user_id_df = augmented_data_df[augmented_data_df[\"userId\"] == user_id]\n",
        "    print(f\"at iteration {iter_cnt}\")\n",
        "    iter_cnt += 1\n",
        "    # iterate through train_user_movies to see which ones have already rated\n",
        "    # if not rated then use GAN rating\n",
        "    for movie_id in random_movies:\n",
        "      # if user has not rated movie\n",
        "      if not train_user_id_df[train_user_id_df[\"movieId\"] == movie_id].any().all():\n",
        "        rating = augmented_user_id_df[augmented_user_id_df['movieId'] == movie_id][\"rating\"]\n",
        "        if rating.empty:\n",
        "          continue\n",
        "        new_df = pd.DataFrame({\"userId\": user_id, \"movieId\": movie_id, \"rating\": rating})\n",
        "        train_with_gan_df = pd.concat([train_with_gan_df, new_df])\n",
        "  train_with_gan_df.to_csv(output_dat_filename, sep=\"\\t\", header=False, index=False)\n",
        "  return train_with_gan_df"
      ],
      "metadata": {
        "id": "FsTbl59vg2ZT"
      },
      "execution_count": 29,
      "outputs": []
    },
    {
      "cell_type": "code",
      "source": [
        "%cd drive/MyDrive/CS247/Project/AttributeGNN/ml100k"
      ],
      "metadata": {
        "id": "81LSibNZiyTR",
        "colab": {
          "base_uri": "https://localhost:8080/"
        },
        "outputId": "200e77e1-b716-46db-df23-d88ea117fe62"
      },
      "execution_count": 14,
      "outputs": [
        {
          "output_type": "stream",
          "name": "stdout",
          "text": [
            "/content/drive/MyDrive/CS247/Project/AttributeGNN/ml100k\n"
          ]
        }
      ]
    },
    {
      "cell_type": "markdown",
      "source": [
        "## create training data"
      ],
      "metadata": {
        "id": "5m09NZsmqKFm"
      }
    },
    {
      "cell_type": "code",
      "source": [
        "llm_rating_df = pd.read_csv(\"llm_user_item_predictions.txt\", sep=\", \",\n",
        "                                header=None, names=[\"userId\", \"movieId\", \"rating\"],\n",
        "                                index_col=\"userId\").reset_index()\n",
        "llm_rating_df = llm_rating_df[llm_rating_df[\"rating\"] > 2]\n",
        "f_train_with_augmented = \"ucs_train_llm_rating_greater_than_2.dat\"\n",
        "train_with_gan_df = create_training_data(f_train_with_augmented, llm_rating_df)"
      ],
      "metadata": {
        "colab": {
          "base_uri": "https://localhost:8080/"
        },
        "id": "Q6wxCv7_sonP",
        "outputId": "226b7e5b-affa-4d36-ef3c-9d8409a392cd"
      },
      "execution_count": 30,
      "outputs": [
        {
          "output_type": "stream",
          "name": "stderr",
          "text": [
            "<ipython-input-30-f6c236fa75d5>:1: ParserWarning: Falling back to the 'python' engine because the 'c' engine does not support regex separators (separators > 1 char and different from '\\s+' are interpreted as regex); you can avoid this warning by specifying engine='python'.\n",
            "  llm_rating_df = pd.read_csv(\"llm_user_item_predictions.txt\", sep=\", \",\n"
          ]
        },
        {
          "output_type": "stream",
          "name": "stdout",
          "text": [
            "at iteration 0\n",
            "at iteration 1\n",
            "at iteration 2\n",
            "at iteration 3\n",
            "at iteration 4\n",
            "at iteration 5\n",
            "at iteration 6\n",
            "at iteration 7\n",
            "at iteration 8\n",
            "at iteration 9\n",
            "at iteration 10\n",
            "at iteration 11\n",
            "at iteration 12\n",
            "at iteration 13\n",
            "at iteration 14\n",
            "at iteration 15\n",
            "at iteration 16\n",
            "at iteration 17\n",
            "at iteration 18\n",
            "at iteration 19\n",
            "at iteration 20\n",
            "at iteration 21\n",
            "at iteration 22\n",
            "at iteration 23\n",
            "at iteration 24\n",
            "at iteration 25\n",
            "at iteration 26\n",
            "at iteration 27\n",
            "at iteration 28\n",
            "at iteration 29\n",
            "at iteration 30\n",
            "at iteration 31\n",
            "at iteration 32\n",
            "at iteration 33\n",
            "at iteration 34\n",
            "at iteration 35\n",
            "at iteration 36\n",
            "at iteration 37\n",
            "at iteration 38\n",
            "at iteration 39\n",
            "at iteration 40\n",
            "at iteration 41\n",
            "at iteration 42\n",
            "at iteration 43\n",
            "at iteration 44\n",
            "at iteration 45\n",
            "at iteration 46\n",
            "at iteration 47\n",
            "at iteration 48\n",
            "at iteration 49\n",
            "at iteration 50\n",
            "at iteration 51\n",
            "at iteration 52\n",
            "at iteration 53\n",
            "at iteration 54\n",
            "at iteration 55\n",
            "at iteration 56\n",
            "at iteration 57\n",
            "at iteration 58\n",
            "at iteration 59\n",
            "at iteration 60\n",
            "at iteration 61\n",
            "at iteration 62\n",
            "at iteration 63\n",
            "at iteration 64\n",
            "at iteration 65\n",
            "at iteration 66\n",
            "at iteration 67\n",
            "at iteration 68\n",
            "at iteration 69\n",
            "at iteration 70\n",
            "at iteration 71\n",
            "at iteration 72\n",
            "at iteration 73\n",
            "at iteration 74\n",
            "at iteration 75\n",
            "at iteration 76\n",
            "at iteration 77\n",
            "at iteration 78\n",
            "at iteration 79\n",
            "at iteration 80\n",
            "at iteration 81\n",
            "at iteration 82\n",
            "at iteration 83\n",
            "at iteration 84\n",
            "at iteration 85\n",
            "at iteration 86\n",
            "at iteration 87\n",
            "at iteration 88\n",
            "at iteration 89\n",
            "at iteration 90\n",
            "at iteration 91\n",
            "at iteration 92\n",
            "at iteration 93\n",
            "at iteration 94\n",
            "at iteration 95\n",
            "at iteration 96\n",
            "at iteration 97\n",
            "at iteration 98\n",
            "at iteration 99\n"
          ]
        }
      ]
    },
    {
      "cell_type": "code",
      "source": [
        "ucs_train_df = pd.read_csv(\"ucs_train.dat\", sep=\"\\t\",\n",
        "                           header=None, names=[\"userId\", \"movieId\", \"rating\"],\n",
        "                             index_col=\"userId\").reset_index()\n",
        "# length of original data\n",
        "len(ucs_train_df)"
      ],
      "metadata": {
        "colab": {
          "base_uri": "https://localhost:8080/"
        },
        "id": "z1tnB12r3Ixo",
        "outputId": "54a37d76-2732-4a89-b6b5-7986742c13aa"
      },
      "execution_count": 31,
      "outputs": [
        {
          "output_type": "execute_result",
          "data": {
            "text/plain": [
              "79417"
            ]
          },
          "metadata": {},
          "execution_count": 31
        }
      ]
    },
    {
      "cell_type": "code",
      "source": [
        "len(train_with_gan_df)"
      ],
      "metadata": {
        "colab": {
          "base_uri": "https://localhost:8080/"
        },
        "id": "4wpKiWLM3FbQ",
        "outputId": "445d52dd-40cd-4f8e-877e-a187dc1c73b3"
      },
      "execution_count": 32,
      "outputs": [
        {
          "output_type": "execute_result",
          "data": {
            "text/plain": [
              "79491"
            ]
          },
          "metadata": {},
          "execution_count": 32
        }
      ]
    },
    {
      "cell_type": "markdown",
      "source": [
        "## user cold start train loop"
      ],
      "metadata": {
        "id": "B6dEc5gFEuYw"
      }
    },
    {
      "cell_type": "code",
      "source": [
        "rmse_user_cold, mse_user_cold, mae_user_cold = [], [], []"
      ],
      "metadata": {
        "id": "ZndTFL1cXpmN"
      },
      "execution_count": 33,
      "outputs": []
    },
    {
      "cell_type": "code",
      "source": [
        "def user_cold_start_train_loop():\n",
        "    #item cold start\n",
        "    \"\"\"\n",
        "    f_info = '../ml100k/uiinfo.pkl'\n",
        "    f_neighbor = '../ml100k/neighbor_aspect_extension_2_zscore_ics_uuii_0.20.pkl'\n",
        "    f_train = '../ml100k/ics_train.dat'\n",
        "    f_test = '../ml100k/ics_val.dat'\n",
        "    f_model = '../ml100k/agnn_ics_'\n",
        "    \"\"\"\n",
        "\n",
        "    # user cold start\n",
        "    f_info = '../ml100k/uiinfo.pkl'\n",
        "    f_neighbor = '../ml100k/neighbor_aspect_extension_2_zscore_ucs_uuii.pkl'\n",
        "    f_train = f_train_with_augmented\n",
        "    f_test = '../ml100k/ucs_val.dat'\n",
        "    f_model = '../ml100k/agnn_ucs_'\n",
        "\n",
        "    \"\"\"# warm start\n",
        "    f_info = '../ml100k/uiinfo.pkl'\n",
        "    f_neighbor = '../ml100k/neighbor_aspect_extension_2_zscore_warm_uuii.pkl'\n",
        "    f_train = '../ml100k/warm_train.dat'\n",
        "    f_test = '../ml100k/warm_val.dat'\n",
        "    f_model = '../ml100k/agnn_warm_'\n",
        "    mode = 'warm'\"\"\"\n",
        "\n",
        "    # use best hyperparameters from paper\n",
        "    # see section 4.1.4 and 4.3 for description of how they got them\n",
        "\n",
        "    print(\"\\nParameters:\")\n",
        "    print(FLAGS)\n",
        "\n",
        "    with open(f_neighbor, 'rb') as f:\n",
        "        neighbor_dict = pickle.load(f)\n",
        "    user_nei_dict = neighbor_dict['user_nei_dict']\n",
        "    item_nei_dict = neighbor_dict['item_nei_dict']\n",
        "    director_num = neighbor_dict['director_num']\n",
        "    writer_num = neighbor_dict['writer_num']\n",
        "    star_num = neighbor_dict['star_num']\n",
        "    country_num = neighbor_dict['country_num']\n",
        "\n",
        "    item_director_dict = neighbor_dict['item_director_dict']    #dict[i]=[x,x,x]\n",
        "    item_writer_dict = neighbor_dict['item_writer_dict']        #dict[i]=[x,x,x]\n",
        "    item_star_dict = neighbor_dict['item_star_dict']            #dict[i]=[x,x,x]\n",
        "    item_country_dict = neighbor_dict['item_country_dict']      #dict[i]=[x,x,x,x,x,x,x,x]\n",
        "\n",
        "    with open(f_info, 'rb') as f:\n",
        "        item_info = pickle.load(f)\n",
        "    user_num = item_info['user_num']\n",
        "    item_num = item_info['item_num']\n",
        "    gender_num = item_info['gender_num']\n",
        "    age_num = item_info['age_num']\n",
        "    occupation_num = item_info['occupation_num']\n",
        "    genre_num = item_info['genre_num']\n",
        "    user_feature_dict = item_info['user_feature_dict']  #gender, age, occupation    dict[u]=[x,x,x]\n",
        "    item_feature_dict = item_info['item_feature_dict']  #genre                      dict[i]=[x,x,x,x,x,x]\n",
        "\n",
        "    print(\"user_num {}, item_num {}, gender_num {}, age_num {}, occupation_num {}, genre_num {}, director_num {}, writer_num {}, star_num {}, country_num {}, mode {} \".format(user_num, item_num, gender_num, age_num, occupation_num, genre_num, director_num, writer_num, star_num, country_num, mode))\n",
        "\n",
        "\n",
        "    train_steps, train_list = get_data_list(f_train, batch_size=FLAGS.batch_size)\n",
        "    test_steps, test_list = get_data_list(f_test, batch_size=FLAGS.batch_size)\n",
        "\n",
        "    model = AGNN(user_num, item_num, gender_num, age_num, occupation_num, genre_num, director_num, writer_num, star_num, country_num, FLAGS.embed_size, FLAGS.attention_size, FLAGS.dropout)\n",
        "    model.cuda()\n",
        "\n",
        "    loss_function = torch.nn.MSELoss(size_average=False)\n",
        "    optimizer = optim.Adam(filter(lambda p: p.requires_grad, model.parameters()), lr=FLAGS.lr, weight_decay=0.001)\n",
        "\n",
        "    writer = SummaryWriter()  # For visualization\n",
        "    #f_loss_curve = open('tmp_loss_curve.txt', 'w')\n",
        "    best_rmse = 5\n",
        "\n",
        "    count = 0\n",
        "    for epoch in range(FLAGS.epochs):\n",
        "        #tmp_main_loss, tmp_vae_loss = [], []\n",
        "        model.train()  # Enable dropout (if have).\n",
        "        start_time = time.time()\n",
        "        train_dataloader = get_batch_instances(train_list, user_feature_dict, item_feature_dict, item_director_dict, item_writer_dict, item_star_dict, item_country_dict,  batch_size=FLAGS.batch_size, user_nei_dict=user_nei_dict, item_nei_dict=item_nei_dict, shuffle=True)\n",
        "        for idx, batch_data in enumerate(train_dataloader): #u, i, l, u_self_cate, u_onehop_id, u_onehop_rating, u_onehop_cate, i_self_cate, i_onehop_id, i_onehop_cate\n",
        "            user = torch.LongTensor(batch_data[0]).cuda()\n",
        "            item = torch.LongTensor(batch_data[1]).cuda()\n",
        "            label = torch.FloatTensor(batch_data[2]).cuda()\n",
        "            user_self_cate = torch.LongTensor(batch_data[3]).cuda()\n",
        "            user_onehop_id = torch.LongTensor(batch_data[4]).cuda()\n",
        "            user_onehop_cate = torch.LongTensor(batch_data[5]).cuda()\n",
        "            item_self_cate, item_self_director, item_self_writer, item_self_star, item_self_country = torch.LongTensor(batch_data[6])[:, 0:6].cuda(), torch.LongTensor(batch_data[6])[:, 6:9].cuda(), torch.LongTensor(batch_data[6])[:, 9:12].cuda(), torch.LongTensor(batch_data[6])[:, 12:15].cuda(), torch.LongTensor(batch_data[6])[:, 15:].cuda()\n",
        "            item_onehop_id = torch.LongTensor(batch_data[7]).cuda()\n",
        "            item_onehop_cate, item_onehop_director, item_onehop_writer, item_onehop_star, item_onehop_country = torch.LongTensor(batch_data[8])[:, :, 0:6].cuda(), torch.LongTensor(batch_data[8])[:, :, 6:9].cuda(), torch.LongTensor(batch_data[8])[:, :, 9:12].cuda(), torch.LongTensor(batch_data[8])[:, :, 12:15].cuda(), torch.LongTensor(batch_data[8])[:, :, 15:].cuda()\n",
        "\n",
        "            model.zero_grad()\n",
        "            prediction, recon_loss, kl_loss = model(user, item, user_self_cate, user_onehop_id, user_onehop_cate, item_self_cate, item_self_director, item_self_writer, item_self_star, item_self_country, item_onehop_id, item_onehop_cate, item_onehop_director, item_onehop_writer, item_onehop_star, item_onehop_country, mode='train')\n",
        "\n",
        "            label = Variable(label)\n",
        "\n",
        "            main_loss = loss_function(prediction, label)\n",
        "            loss = main_loss + FLAGS.vae_lambda * (recon_loss + kl_loss)\n",
        "\n",
        "            loss.backward()\n",
        "            # nn.utils.clip_grad_norm(model.parameters(), FLAGS.clip_norm)\n",
        "            optimizer.step()\n",
        "            writer.add_scalar('data/loss', loss.data, count)\n",
        "            count += 1\n",
        "\n",
        "        tmploss = torch.sqrt(loss / FLAGS.batch_size)\n",
        "        print(50 * '#')\n",
        "        print('epoch: ', epoch, '     ', tmploss.detach())\n",
        "\n",
        "        model.eval()\n",
        "        print('time = ', time.time() - start_time)\n",
        "        test_dataloader = get_batch_instances(test_list, user_feature_dict, item_feature_dict, item_director_dict, item_writer_dict, item_star_dict, item_country_dict, batch_size=FLAGS.batch_size, user_nei_dict=user_nei_dict, item_nei_dict=item_nei_dict, shuffle=False)\n",
        "        rmse, mse, mae, label_lst, pred_lst = metrics(model, test_dataloader)\n",
        "        rmse_user_cold.append(rmse)\n",
        "        mse_user_cold.append(mse)\n",
        "        mae_user_cold.append(mae)\n",
        "        print('test rmse,mse,mae: ', rmse,mse,mae)"
      ],
      "metadata": {
        "id": "eMO3fISXFqxs"
      },
      "execution_count": 41,
      "outputs": []
    },
    {
      "cell_type": "markdown",
      "source": [
        "## user cold start evaluation"
      ],
      "metadata": {
        "id": "k6QEU4ZGMV5i"
      }
    },
    {
      "cell_type": "code",
      "source": [
        "mode = 'ucs'\n",
        "user_cold_start_train_loop()"
      ],
      "metadata": {
        "colab": {
          "base_uri": "https://localhost:8080/",
          "height": 1000
        },
        "id": "wNZgrShk5fTJ",
        "outputId": "769e7969-c49b-4625-a772-af0b0d5be0ba"
      },
      "execution_count": 42,
      "outputs": [
        {
          "output_type": "stream",
          "name": "stdout",
          "text": [
            "\n",
            "Parameters:\n",
            "<__main__.Flags object at 0x7f6d1a4e1ab0>\n",
            "user_num 944, item_num 1683, gender_num 2, age_num 7, occupation_num 21, genre_num 19, director_num 1112, writer_num 2016, star_num 2568, country_num 128, mode ucs \n"
          ]
        },
        {
          "output_type": "stream",
          "name": "stderr",
          "text": [
            "<ipython-input-4-d63240c34650>:26: UserWarning: nn.init.xavier_uniform is now deprecated in favor of nn.init.xavier_uniform_.\n",
            "  nn.init.xavier_uniform(self.user_embed.weight)\n",
            "<ipython-input-4-d63240c34650>:27: UserWarning: nn.init.xavier_uniform is now deprecated in favor of nn.init.xavier_uniform_.\n",
            "  nn.init.xavier_uniform(self.item_embed.weight)\n",
            "<ipython-input-4-d63240c34650>:31: UserWarning: nn.init.constant is now deprecated in favor of nn.init.constant_.\n",
            "  nn.init.constant(self.user_bias.weight, 0)\n",
            "<ipython-input-4-d63240c34650>:32: UserWarning: nn.init.constant is now deprecated in favor of nn.init.constant_.\n",
            "  nn.init.constant(self.item_bias.weight, 0)\n",
            "<ipython-input-4-d63240c34650>:20: UserWarning: nn.init.xavier_uniform is now deprecated in favor of nn.init.xavier_uniform_.\n",
            "  nn.init.xavier_uniform(m.weight)\n",
            "<ipython-input-4-d63240c34650>:22: UserWarning: nn.init.constant is now deprecated in favor of nn.init.constant_.\n",
            "  nn.init.constant(m.bias, 0)\n",
            "<ipython-input-3-58aca4851266>:14: UserWarning: nn.init.xavier_uniform is now deprecated in favor of nn.init.xavier_uniform_.\n",
            "  nn.init.xavier_uniform(m.weight)\n",
            "<ipython-input-3-58aca4851266>:16: UserWarning: nn.init.constant is now deprecated in favor of nn.init.constant_.\n",
            "  nn.init.constant(m.bias, 0)\n",
            "/usr/local/lib/python3.10/dist-packages/torch/nn/_reduction.py:42: UserWarning: size_average and reduce args will be deprecated, please use reduction='sum' instead.\n",
            "  warnings.warn(warning.format(ret))\n"
          ]
        },
        {
          "output_type": "stream",
          "name": "stdout",
          "text": [
            "##################################################\n",
            "epoch:  0       tensor(0.2728, device='cuda:0')\n",
            "time =  28.45921802520752\n",
            "test rmse,mse,mae:  1.0393449453692387 1.0802379154645858 0.8418298189502088\n",
            "##################################################\n",
            "epoch:  1       tensor(0.1901, device='cuda:0')\n",
            "time =  27.850297212600708\n",
            "test rmse,mse,mae:  1.0337937108481825 1.0687294365892557 0.8406415008128295\n",
            "##################################################\n",
            "epoch:  2       tensor(0.2559, device='cuda:0')\n",
            "time =  28.302163124084473\n",
            "test rmse,mse,mae:  1.025364910065783 1.0513731987942112 0.8218825028495528\n",
            "##################################################\n",
            "epoch:  3       tensor(0.0937, device='cuda:0')\n",
            "time =  27.65086841583252\n",
            "test rmse,mse,mae:  1.0483807117750041 1.0991021168218644 0.8591642255124687\n",
            "##################################################\n",
            "epoch:  4       tensor(0.3723, device='cuda:0')\n",
            "time =  29.38109850883484\n",
            "test rmse,mse,mae:  1.0218922328074482 1.0442637354721918 0.8196355433006047\n",
            "##################################################\n",
            "epoch:  5       tensor(0.3842, device='cuda:0')\n",
            "time =  29.010506868362427\n",
            "test rmse,mse,mae:  1.0283930250424596 1.057592213955981 0.8305199941926011\n",
            "##################################################\n",
            "epoch:  6       tensor(0.2830, device='cuda:0')\n",
            "time =  28.21466898918152\n",
            "test rmse,mse,mae:  1.051150273688561 1.1049168978755366 0.8651982229455465\n",
            "##################################################\n",
            "epoch:  7       tensor(0.2002, device='cuda:0')\n",
            "time =  28.295692682266235\n",
            "test rmse,mse,mae:  1.0361720972150399 1.0736526150470143 0.8444067183987877\n",
            "##################################################\n",
            "epoch:  8       tensor(0.2644, device='cuda:0')\n",
            "time =  27.960113048553467\n",
            "test rmse,mse,mae:  1.0432164565087594 1.0883005751306922 0.8509851854245852\n",
            "##################################################\n",
            "epoch:  9       tensor(nan, device='cuda:0')\n",
            "time =  28.631261348724365\n",
            "test rmse,mse,mae:  1.0284452656829208 1.0576996645056136 0.8293194752511411\n",
            "##################################################\n",
            "epoch:  10       tensor(0.2976, device='cuda:0')\n",
            "time =  28.388724327087402\n",
            "test rmse,mse,mae:  1.0303973199797032 1.061718637021355 0.8307868113515676\n",
            "##################################################\n",
            "epoch:  11       tensor(0.4470, device='cuda:0')\n",
            "time =  28.146165370941162\n",
            "test rmse,mse,mae:  1.0265315408938893 1.0537670044499827 0.8265738254419795\n",
            "##################################################\n",
            "epoch:  12       tensor(0.2533, device='cuda:0')\n",
            "time =  28.016775846481323\n",
            "test rmse,mse,mae:  1.0487144487727293 1.0998019950646896 0.8552097724025326\n"
          ]
        },
        {
          "output_type": "error",
          "ename": "KeyboardInterrupt",
          "evalue": "",
          "traceback": [
            "\u001b[0;31m---------------------------------------------------------------------------\u001b[0m",
            "\u001b[0;31mKeyboardInterrupt\u001b[0m                         Traceback (most recent call last)",
            "\u001b[0;32m<ipython-input-42-8824ff6c4aad>\u001b[0m in \u001b[0;36m<cell line: 2>\u001b[0;34m()\u001b[0m\n\u001b[1;32m      1\u001b[0m \u001b[0mmode\u001b[0m \u001b[0;34m=\u001b[0m \u001b[0;34m'ucs'\u001b[0m\u001b[0;34m\u001b[0m\u001b[0;34m\u001b[0m\u001b[0m\n\u001b[0;32m----> 2\u001b[0;31m \u001b[0muser_cold_start_train_loop\u001b[0m\u001b[0;34m(\u001b[0m\u001b[0;34m)\u001b[0m\u001b[0;34m\u001b[0m\u001b[0;34m\u001b[0m\u001b[0m\n\u001b[0m",
            "\u001b[0;32m<ipython-input-41-3b5d3ffb15aa>\u001b[0m in \u001b[0;36muser_cold_start_train_loop\u001b[0;34m()\u001b[0m\n\u001b[1;32m     77\u001b[0m         \u001b[0mstart_time\u001b[0m \u001b[0;34m=\u001b[0m \u001b[0mtime\u001b[0m\u001b[0;34m.\u001b[0m\u001b[0mtime\u001b[0m\u001b[0;34m(\u001b[0m\u001b[0;34m)\u001b[0m\u001b[0;34m\u001b[0m\u001b[0;34m\u001b[0m\u001b[0m\n\u001b[1;32m     78\u001b[0m         \u001b[0mtrain_dataloader\u001b[0m \u001b[0;34m=\u001b[0m \u001b[0mget_batch_instances\u001b[0m\u001b[0;34m(\u001b[0m\u001b[0mtrain_list\u001b[0m\u001b[0;34m,\u001b[0m \u001b[0muser_feature_dict\u001b[0m\u001b[0;34m,\u001b[0m \u001b[0mitem_feature_dict\u001b[0m\u001b[0;34m,\u001b[0m \u001b[0mitem_director_dict\u001b[0m\u001b[0;34m,\u001b[0m \u001b[0mitem_writer_dict\u001b[0m\u001b[0;34m,\u001b[0m \u001b[0mitem_star_dict\u001b[0m\u001b[0;34m,\u001b[0m \u001b[0mitem_country_dict\u001b[0m\u001b[0;34m,\u001b[0m  \u001b[0mbatch_size\u001b[0m\u001b[0;34m=\u001b[0m\u001b[0mFLAGS\u001b[0m\u001b[0;34m.\u001b[0m\u001b[0mbatch_size\u001b[0m\u001b[0;34m,\u001b[0m \u001b[0muser_nei_dict\u001b[0m\u001b[0;34m=\u001b[0m\u001b[0muser_nei_dict\u001b[0m\u001b[0;34m,\u001b[0m \u001b[0mitem_nei_dict\u001b[0m\u001b[0;34m=\u001b[0m\u001b[0mitem_nei_dict\u001b[0m\u001b[0;34m,\u001b[0m \u001b[0mshuffle\u001b[0m\u001b[0;34m=\u001b[0m\u001b[0;32mTrue\u001b[0m\u001b[0;34m)\u001b[0m\u001b[0;34m\u001b[0m\u001b[0;34m\u001b[0m\u001b[0m\n\u001b[0;32m---> 79\u001b[0;31m         \u001b[0;32mfor\u001b[0m \u001b[0midx\u001b[0m\u001b[0;34m,\u001b[0m \u001b[0mbatch_data\u001b[0m \u001b[0;32min\u001b[0m \u001b[0menumerate\u001b[0m\u001b[0;34m(\u001b[0m\u001b[0mtrain_dataloader\u001b[0m\u001b[0;34m)\u001b[0m\u001b[0;34m:\u001b[0m \u001b[0;31m#u, i, l, u_self_cate, u_onehop_id, u_onehop_rating, u_onehop_cate, i_self_cate, i_onehop_id, i_onehop_cate\u001b[0m\u001b[0;34m\u001b[0m\u001b[0;34m\u001b[0m\u001b[0m\n\u001b[0m\u001b[1;32m     80\u001b[0m             \u001b[0muser\u001b[0m \u001b[0;34m=\u001b[0m \u001b[0mtorch\u001b[0m\u001b[0;34m.\u001b[0m\u001b[0mLongTensor\u001b[0m\u001b[0;34m(\u001b[0m\u001b[0mbatch_data\u001b[0m\u001b[0;34m[\u001b[0m\u001b[0;36m0\u001b[0m\u001b[0;34m]\u001b[0m\u001b[0;34m)\u001b[0m\u001b[0;34m.\u001b[0m\u001b[0mcuda\u001b[0m\u001b[0;34m(\u001b[0m\u001b[0;34m)\u001b[0m\u001b[0;34m\u001b[0m\u001b[0;34m\u001b[0m\u001b[0m\n\u001b[1;32m     81\u001b[0m             \u001b[0mitem\u001b[0m \u001b[0;34m=\u001b[0m \u001b[0mtorch\u001b[0m\u001b[0;34m.\u001b[0m\u001b[0mLongTensor\u001b[0m\u001b[0;34m(\u001b[0m\u001b[0mbatch_data\u001b[0m\u001b[0;34m[\u001b[0m\u001b[0;36m1\u001b[0m\u001b[0;34m]\u001b[0m\u001b[0;34m)\u001b[0m\u001b[0;34m.\u001b[0m\u001b[0mcuda\u001b[0m\u001b[0;34m(\u001b[0m\u001b[0;34m)\u001b[0m\u001b[0;34m\u001b[0m\u001b[0;34m\u001b[0m\u001b[0m\n",
            "\u001b[0;32m<ipython-input-7-a5b589ad9b38>\u001b[0m in \u001b[0;36mdata_generator\u001b[0;34m(train_list)\u001b[0m\n\u001b[1;32m     75\u001b[0m \u001b[0;34m\u001b[0m\u001b[0m\n\u001b[1;32m     76\u001b[0m                 \u001b[0mu_onehop_id\u001b[0m\u001b[0;34m[\u001b[0m\u001b[0mindex\u001b[0m\u001b[0;34m]\u001b[0m \u001b[0;34m=\u001b[0m \u001b[0mtmp_one_nei\u001b[0m  \u001b[0;31m# user_1_neigh\u001b[0m\u001b[0;34m\u001b[0m\u001b[0;34m\u001b[0m\u001b[0m\n\u001b[0;32m---> 77\u001b[0;31m                 \u001b[0mu_onehop_cate\u001b[0m\u001b[0;34m[\u001b[0m\u001b[0mindex\u001b[0m\u001b[0;34m]\u001b[0m \u001b[0;34m=\u001b[0m \u001b[0muser_feature_arr\u001b[0m\u001b[0;34m[\u001b[0m\u001b[0mtmp_one_nei\u001b[0m\u001b[0;34m]\u001b[0m  \u001b[0;31m# user_1_neigh_cate\u001b[0m\u001b[0;34m\u001b[0m\u001b[0;34m\u001b[0m\u001b[0m\n\u001b[0m\u001b[1;32m     78\u001b[0m \u001b[0;34m\u001b[0m\u001b[0m\n\u001b[1;32m     79\u001b[0m             \u001b[0;32myield\u001b[0m \u001b[0;34m(\u001b[0m\u001b[0;34m[\u001b[0m\u001b[0mu\u001b[0m\u001b[0;34m,\u001b[0m \u001b[0mi\u001b[0m\u001b[0;34m,\u001b[0m \u001b[0ml\u001b[0m\u001b[0;34m,\u001b[0m \u001b[0mu_self_cate\u001b[0m\u001b[0;34m,\u001b[0m \u001b[0mu_onehop_id\u001b[0m\u001b[0;34m,\u001b[0m \u001b[0mu_onehop_cate\u001b[0m\u001b[0;34m,\u001b[0m \u001b[0mi_self_cate\u001b[0m\u001b[0;34m,\u001b[0m \u001b[0mi_onehop_id\u001b[0m\u001b[0;34m,\u001b[0m \u001b[0mi_onehop_cate\u001b[0m\u001b[0;34m]\u001b[0m\u001b[0;34m)\u001b[0m\u001b[0;34m\u001b[0m\u001b[0;34m\u001b[0m\u001b[0m\n",
            "\u001b[0;31mKeyboardInterrupt\u001b[0m: "
          ]
        }
      ]
    },
    {
      "cell_type": "code",
      "source": [
        "np.argmin(rmse_user_cold), rmse_user_cold[np.argmin(rmse_user_cold)]"
      ],
      "metadata": {
        "colab": {
          "base_uri": "https://localhost:8080/"
        },
        "id": "U0UF-JFKp4A9",
        "outputId": "ba8bb368-1523-4c60-b0b4-4cac64f14f70"
      },
      "execution_count": 39,
      "outputs": [
        {
          "output_type": "execute_result",
          "data": {
            "text/plain": [
              "(8, 1.0186191713334658)"
            ]
          },
          "metadata": {},
          "execution_count": 39
        }
      ]
    },
    {
      "cell_type": "code",
      "source": [
        "mae_user_cold[np.argmin(rmse_user_cold)]"
      ],
      "metadata": {
        "colab": {
          "base_uri": "https://localhost:8080/"
        },
        "id": "CpKK5QbKp846",
        "outputId": "6468e669-2861-444d-a415-45376b1bf4b1"
      },
      "execution_count": 40,
      "outputs": [
        {
          "output_type": "execute_result",
          "data": {
            "text/plain": [
              "0.8140957707283373"
            ]
          },
          "metadata": {},
          "execution_count": 40
        }
      ]
    },
    {
      "cell_type": "code",
      "source": [
        "print(f\"rmse = {rmse_user_cold}\")\n",
        "print(f\"mse = {mse_user_cold}\")\n",
        "print(f\"mae = {mae_user_cold}\")"
      ],
      "metadata": {
        "colab": {
          "base_uri": "https://localhost:8080/"
        },
        "id": "PXM1XzSNfb34",
        "outputId": "e64adb08-4aa0-411c-8959-aa19735af700"
      },
      "execution_count": 37,
      "outputs": [
        {
          "output_type": "stream",
          "name": "stdout",
          "text": [
            "rmse = [1.0564767701567477, 1.0376584597573741, 1.0238106986772593, 1.0238630020649102, 1.0208028014100365, 1.0284672387358682, 1.0406661718156267, 1.0402793564473651, 1.0186191713334658, 1.065499878387347, 1.0383364266250854, 1.046228199066416, 1.0299713632165428, 1.0583620652781323, 1.0471177944523782, 1.0565584345241117, 1.0443982013734967, 1.0501986868524096, 1.0578089441099003, 1.0347151131545216]\n",
            "mse = [1.1161431658808334, 1.0767350791060462, 1.0481883467260176, 1.0482954469973704, 1.0420383593665785, 1.0577448611529814, 1.0829860811613916, 1.082181139450544, 1.0375850162080766, 1.1352899908434515, 1.0781425348565512, 1.0945934445217562, 1.0608410090461438, 1.1201302612197936, 1.096455675458813, 1.1163157255640417, 1.090767603032195, 1.1029172818665254, 1.1189597622389025, 1.0706353653903744]\n",
            "mae = [0.8699210842977498, 0.8477082416753301, 0.8282209406648254, 0.8277001117053373, 0.8180893137822988, 0.8360573074036134, 0.8520128918894119, 0.849906513284723, 0.8140957707283373, 0.8758338109424011, 0.8436163071205797, 0.8515527496612183, 0.8338858919449939, 0.8683046616068365, 0.8533041644118383, 0.8659492718410673, 0.8481018488222845, 0.8558377631637379, 0.8648843806495253, 0.8360967327993245]\n"
          ]
        }
      ]
    },
    {
      "cell_type": "code",
      "source": [
        "import matplotlib.pyplot as plt\n",
        "plt.plot(np.arange(FLAGS.epochs), rmse_user_cold, label=\"RMSE\")\n",
        "plt.plot(np.arange(FLAGS.epochs), mse_user_cold, label=\"MSE\")\n",
        "plt.plot(np.arange(FLAGS.epochs), mae_user_cold, label=\"MAE\")\n",
        "plt.ylabel(\"Loss\")\n",
        "plt.xlabel(\"Epochs\")\n",
        "plt.title(\"User cold start with LLM data and rating > 2\")\n",
        "plt.legend()\n",
        "plt.savefig(\"cold_start_with_random_selection_llm_greater_than_2.png\")"
      ],
      "metadata": {
        "colab": {
          "base_uri": "https://localhost:8080/",
          "height": 472
        },
        "id": "wV01gjjtcybT",
        "outputId": "56064491-c682-4b95-a0ee-8783884948b1"
      },
      "execution_count": 38,
      "outputs": [
        {
          "output_type": "display_data",
          "data": {
            "text/plain": [
              "<Figure size 640x480 with 1 Axes>"
            ],
            "image/png": "[encoded data removed]"
          },
          "metadata": {}
        }
      ]
    },
    {
      "cell_type": "code",
      "source": [],
      "metadata": {
        "id": "Sv9y2PysMfuf"
      },
      "execution_count": null,
      "outputs": []
    }
  ]
}